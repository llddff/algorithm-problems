{
 "cells": [
  {
   "cell_type": "code",
   "execution_count": 3,
   "metadata": {},
   "outputs": [],
   "source": [
    "import random"
   ]
  },
  {
   "cell_type": "code",
   "execution_count": 18,
   "metadata": {},
   "outputs": [
    {
     "data": {
      "text/plain": [
       "[41,\n",
       " 62,\n",
       " 59,\n",
       " 14,\n",
       " 74,\n",
       " 76,\n",
       " 93,\n",
       " 90,\n",
       " 94,\n",
       " 33,\n",
       " 49,\n",
       " 35,\n",
       " 93,\n",
       " 60,\n",
       " 52,\n",
       " 22,\n",
       " 20,\n",
       " 66,\n",
       " 69,\n",
       " 57]"
      ]
     },
     "execution_count": 18,
     "metadata": {},
     "output_type": "execute_result"
    }
   ],
   "source": [
    "data=range(100)\n",
    "unsorted = random.choices(data,k=20)\n",
    "unsorted"
   ]
  },
  {
   "cell_type": "code",
   "execution_count": 6,
   "metadata": {},
   "outputs": [],
   "source": [
    "def bubble_sort(lie):\n",
    "    n=len(lie)\n",
    "    for j in range(n-1):          # n-1 round\n",
    "        for i in range(n-1-j):\n",
    "            if lie[i]>lie[i+1]:\n",
    "                lie[i],lie[i+1]=lie[i+1],lie[i]\n"
   ]
  },
  {
   "cell_type": "code",
   "execution_count": 7,
   "metadata": {},
   "outputs": [],
   "source": [
    "bubble_sort(unsorted)"
   ]
  },
  {
   "cell_type": "code",
   "execution_count": 8,
   "metadata": {},
   "outputs": [
    {
     "data": {
      "text/plain": [
       "[12, 23, 41, 45, 75, 78, 85, 92]"
      ]
     },
     "execution_count": 8,
     "metadata": {},
     "output_type": "execute_result"
    }
   ],
   "source": [
    "unsorted"
   ]
  },
  {
   "cell_type": "code",
   "execution_count": 11,
   "metadata": {},
   "outputs": [],
   "source": [
    "def bubble_sort2(lie):\n",
    "    n=len(lie)\n",
    "    isSorted = True\n",
    "    for j in range(n-1):          # n-1 round\n",
    "        for i in range(n-1-j):\n",
    "            if lie[i]>lie[i+1]:\n",
    "                lie[i],lie[i+1]=lie[i+1],lie[i]\n",
    "                isSorted = False\n",
    "        if isSorted:\n",
    "            break"
   ]
  },
  {
   "cell_type": "code",
   "execution_count": 12,
   "metadata": {},
   "outputs": [
    {
     "data": {
      "text/plain": [
       "[12, 23, 41, 45, 75, 78, 85, 92]"
      ]
     },
     "execution_count": 12,
     "metadata": {},
     "output_type": "execute_result"
    }
   ],
   "source": [
    "bubble_sort2(unsorted)\n",
    "unsorted"
   ]
  },
  {
   "cell_type": "code",
   "execution_count": 14,
   "metadata": {},
   "outputs": [],
   "source": [
    "def bubble_sort3(lie):\n",
    "    n=len(lie)\n",
    "    lastChangeIndex=0\n",
    "    sortBorder=n-1           # 无序数列的边界\n",
    "    \n",
    "    for j in range(n-1):          # n-1 round\n",
    "        isSorted = True\n",
    "        for i in range(sortBorder):\n",
    "            if lie[i]>lie[i+1]:\n",
    "                lie[i],lie[i+1]=lie[i+1],lie[i]\n",
    "                isSorted = False\n",
    "                lastChangeIndex=i\n",
    "        sortBorder=lastChangeIndex\n",
    "        if isSorted:\n",
    "            break"
   ]
  },
  {
   "cell_type": "code",
   "execution_count": 15,
   "metadata": {},
   "outputs": [
    {
     "data": {
      "text/plain": [
       "[12, 23, 41, 45, 75, 78, 85, 92]"
      ]
     },
     "execution_count": 15,
     "metadata": {},
     "output_type": "execute_result"
    }
   ],
   "source": [
    "unsorted = [45,41,78,23,85,12,75,92]\n",
    "bubble_sort3(unsorted)\n",
    "unsorted"
   ]
  },
  {
   "cell_type": "code",
   "execution_count": 24,
   "metadata": {},
   "outputs": [],
   "source": [
    "def jiweijiu_sort(lie):\n",
    "    n=len(lie)\n",
    "    for j in range(n//2):\n",
    "        isSorted = True\n",
    "        for i in range(j,n-1-j):\n",
    "            if lie[i]>lie[i+1]:\n",
    "                lie[i],lie[i+1]=lie[i+1],lie[i]\n",
    "                isSorted = False\n",
    "        if isSorted:\n",
    "            break\n",
    "        isSorted = True\n",
    "        for k in range(n-1-j,j,-1):\n",
    "            if lie[k]<lie[k-1]:\n",
    "                lie[k],lie[k-1]=lie[k-1],lie[k]\n",
    "                isSorted = False\n",
    "        if isSorted:\n",
    "            break"
   ]
  },
  {
   "cell_type": "code",
   "execution_count": 25,
   "metadata": {},
   "outputs": [
    {
     "data": {
      "text/plain": [
       "[12, 23, 33, 41, 45, 75, 78, 85, 92]"
      ]
     },
     "execution_count": 25,
     "metadata": {},
     "output_type": "execute_result"
    }
   ],
   "source": [
    "unsorted = [45,41,78,23,85,12,75,92,33]\n",
    "jiweijiu_sort(unsorted)\n",
    "unsorted"
   ]
  },
  {
   "cell_type": "markdown",
   "metadata": {},
   "source": [
    "### 快排，双边循环"
   ]
  },
  {
   "cell_type": "code",
   "execution_count": 1,
   "metadata": {},
   "outputs": [],
   "source": [
    "def partition(lie,startIndex,endIndex):\n",
    "    pivot=lie[startIndex]\n",
    "    left=startIndex\n",
    "    right=endIndex\n",
    "    while left!=right:\n",
    "        while left<right and lie[right]>pivot:\n",
    "            right -= 1\n",
    "        while left<right and lie[left]<=pivot:\n",
    "            left += 1\n",
    "        if left<right:\n",
    "            lie[left],lie[right] = lie[right],lie[left]\n",
    "    lie[left],lie[startIndex] = lie[startIndex],lie[left]\n",
    "    return left\n",
    "\n",
    "def quickSort(lie,startIndex,endIndex):\n",
    "    if startIndex>=endIndex:\n",
    "        return\n",
    "    pivotIndex=partition(lie,startIndex,endIndex)\n",
    "    quickSort(lie,startIndex,pivotIndex-1)\n",
    "    quickSort(lie,pivotIndex+1,endIndex)"
   ]
  },
  {
   "cell_type": "code",
   "execution_count": 4,
   "metadata": {},
   "outputs": [
    {
     "data": {
      "text/plain": [
       "[12, 23, 33, 41, 45, 45, 75, 78, 85, 92]"
      ]
     },
     "execution_count": 4,
     "metadata": {},
     "output_type": "execute_result"
    }
   ],
   "source": [
    "unsorted = [45,41,78,23,85,12,75,92,33,45]\n",
    "quickSort(unsorted,0,len(unsorted)-1)\n",
    "unsorted"
   ]
  },
  {
   "cell_type": "markdown",
   "metadata": {},
   "source": [
    "### 快排，单边循环"
   ]
  },
  {
   "cell_type": "code",
   "execution_count": 5,
   "metadata": {},
   "outputs": [],
   "source": [
    "def partition(lie,startIndex,endIndex):\n",
    "    pivot=lie[startIndex]\n",
    "    mark = startIndex\n",
    "    for i in range(startIndex+1,endIndex+1):\n",
    "        if lie[i]<pivot:\n",
    "            mark += 1\n",
    "            lie[mark],lie[i] = lie[i],lie[mark]\n",
    "    lie[mark],lie[startIndex] = lie[startIndex],lie[mark]\n",
    "    return mark\n",
    "\n",
    "def quickSort2(lie,startIndex,endIndex):\n",
    "    if startIndex>=endIndex:\n",
    "        return\n",
    "    pivotIndex=partition(lie,startIndex,endIndex)\n",
    "    quickSort(lie,startIndex,pivotIndex-1)\n",
    "    quickSort(lie,pivotIndex+1,endIndex)"
   ]
  },
  {
   "cell_type": "code",
   "execution_count": 6,
   "metadata": {},
   "outputs": [
    {
     "data": {
      "text/plain": [
       "[12, 23, 33, 41, 45, 45, 75, 78, 85, 92]"
      ]
     },
     "execution_count": 6,
     "metadata": {},
     "output_type": "execute_result"
    }
   ],
   "source": [
    "unsorted = [45,41,78,23,85,12,75,92,33,45]\n",
    "quickSort2(unsorted,0,len(unsorted)-1)\n",
    "unsorted"
   ]
  },
  {
   "cell_type": "markdown",
   "metadata": {},
   "source": [
    "### 堆排序"
   ]
  },
  {
   "cell_type": "code",
   "execution_count": 3,
   "metadata": {},
   "outputs": [],
   "source": [
    "def downAdjust(lie,parentIndex,length):\n",
    "#     temp = lie[parentIndex]\n",
    "#     “下沉”调整\n",
    "    childIndex=2*parentIndex+1\n",
    "    while childIndex<length:\n",
    "        if childIndex+1 < length and lie[childIndex+1] > lie[childIndex]:\n",
    "            childIndex += 1\n",
    "        if lie[parentIndex] >= lie[childIndex]:\n",
    "            break\n",
    "#         lie[parentIndex] = lie[childIndex]\n",
    "        lie[parentIndex],lie[childIndex] = lie[childIndex],lie[parentIndex]\n",
    "        parentIndex=childIndex\n",
    "        childIndex=2*childIndex+1\n",
    "#     lie[parentIndex] = temp\n",
    "    \n",
    "def heapSort(lie):\n",
    "    n=len(lie)\n",
    "#     把无序数组构建成最大堆\n",
    "    for i in range((n-2)//2,-1,-1):\n",
    "        downAdjust(lie,i,n)\n",
    "    print(lie)\n",
    "#     循环删除堆顶元素，移到集合尾部，调整堆产生新的堆顶\n",
    "    for j in range(n-1,0,-1):\n",
    "        lie[0],lie[j]=lie[j],lie[0]\n",
    "        downAdjust(lie,0,j)\n",
    "    "
   ]
  },
  {
   "cell_type": "code",
   "execution_count": 4,
   "metadata": {},
   "outputs": [
    {
     "name": "stdout",
     "output_type": "stream",
     "text": [
      "[92, 85, 78, 41, 45, 12, 75, 23, 33, 45]\n"
     ]
    },
    {
     "data": {
      "text/plain": [
       "[12, 23, 33, 41, 45, 45, 75, 78, 85, 92]"
      ]
     },
     "execution_count": 4,
     "metadata": {},
     "output_type": "execute_result"
    }
   ],
   "source": [
    "unsorted = [45,41,78,23,85,12,75,92,33,45]\n",
    "heapSort(unsorted)\n",
    "unsorted"
   ]
  },
  {
   "cell_type": "markdown",
   "metadata": {},
   "source": [
    "### 辗转相除法"
   ]
  },
  {
   "cell_type": "code",
   "execution_count": 12,
   "metadata": {},
   "outputs": [],
   "source": [
    "def getGreatestCommonDivisor(a,b):\n",
    "    big = a if a>b else b\n",
    "    small = a if a<b else b\n",
    "    if big%small == 0:\n",
    "        return small\n",
    "    return getGreatestCommonDivisor(big%small,small)"
   ]
  },
  {
   "cell_type": "code",
   "execution_count": 14,
   "metadata": {},
   "outputs": [
    {
     "data": {
      "text/plain": [
       "7"
      ]
     },
     "execution_count": 14,
     "metadata": {},
     "output_type": "execute_result"
    }
   ],
   "source": [
    "getGreatestCommonDivisor(7,14)"
   ]
  },
  {
   "cell_type": "markdown",
   "metadata": {},
   "source": [
    "### 更相减损术"
   ]
  },
  {
   "cell_type": "code",
   "execution_count": 19,
   "metadata": {},
   "outputs": [],
   "source": [
    "def getGreatestCommonDivisor2(a,b):\n",
    "    if a==b:\n",
    "        return a\n",
    "    big = a if a>b else b\n",
    "    small = a if a<b else b\n",
    "    if big-small == 0:\n",
    "        return small\n",
    "    return getGreatestCommonDivisor(big-small,small)"
   ]
  },
  {
   "cell_type": "code",
   "execution_count": 20,
   "metadata": {},
   "outputs": [
    {
     "data": {
      "text/plain": [
       "10"
      ]
     },
     "execution_count": 20,
     "metadata": {},
     "output_type": "execute_result"
    }
   ],
   "source": [
    "getGreatestCommonDivisor2(50,120)"
   ]
  },
  {
   "cell_type": "markdown",
   "metadata": {},
   "source": [
    "### 位运算法"
   ]
  },
  {
   "cell_type": "code",
   "execution_count": 32,
   "metadata": {},
   "outputs": [],
   "source": [
    "def getGreatestCommonDivisor3(a,b):\n",
    "    if a==b:\n",
    "        return a\n",
    "    if (a&1)==0 and (b&1)==0:\n",
    "        return getGreatestCommonDivisor3(a>>1,b>>1)<<1\n",
    "    elif (a&1)==0 and (b&1)==1:\n",
    "        return getGreatestCommonDivisor3(a>>1,b)\n",
    "    elif (a&1)==1 and (b&1)==0:\n",
    "        return getGreatestCommonDivisor3(a,b>>1)\n",
    "    else:\n",
    "        big = a if a>b else b\n",
    "        small = a if a<b else b\n",
    "        return getGreatestCommonDivisor3(big-small,small)"
   ]
  },
  {
   "cell_type": "code",
   "execution_count": 33,
   "metadata": {},
   "outputs": [
    {
     "data": {
      "text/plain": [
       "2"
      ]
     },
     "execution_count": 33,
     "metadata": {},
     "output_type": "execute_result"
    }
   ],
   "source": [
    "getGreatestCommonDivisor3(50,12)"
   ]
  },
  {
   "cell_type": "markdown",
   "metadata": {},
   "source": [
    "### 判断2的整数幂"
   ]
  },
  {
   "cell_type": "code",
   "execution_count": 1,
   "metadata": {},
   "outputs": [],
   "source": [
    "def isPowerof2(n):\n",
    "    return n&(n-1) == 0"
   ]
  },
  {
   "cell_type": "code",
   "execution_count": 5,
   "metadata": {},
   "outputs": [
    {
     "data": {
      "text/plain": [
       "True"
      ]
     },
     "execution_count": 5,
     "metadata": {},
     "output_type": "execute_result"
    }
   ],
   "source": [
    "isPowerof2(256)"
   ]
  },
  {
   "cell_type": "markdown",
   "metadata": {},
   "source": [
    "### 全排列的下一个数"
   ]
  },
  {
   "cell_type": "code",
   "execution_count": 4,
   "metadata": {},
   "outputs": [],
   "source": [
    "def findNext(inte):            # 函数式编程\n",
    "    templist=[int(a) for a in str(inte)]\n",
    "    n=len(templist)    \n",
    "    def findTranPoint():\n",
    "        for i in range(n-1,0,-1):\n",
    "            if templist[i]>templist[i-1]:\n",
    "                return i\n",
    "    def exchangeHead(index):\n",
    "        for i in range(n-1,0,-1):\n",
    "            if templist[i]>templist[index-1]:\n",
    "                templist[i],templist[index-1]=templist[index-1],templist[i]\n",
    "                break\n",
    "    def reverse(index):\n",
    "        a=templist[index:]\n",
    "        a.sort()\n",
    "        #print(a)\n",
    "        return a\n",
    "    index = findTranPoint()\n",
    "    if index == 0:\n",
    "        return None\n",
    "    exchangeHead(index)\n",
    "    #reverse(index)\n",
    "    t= templist[:index]+reverse(index)\n",
    "    a=0\n",
    "    for i in range(n):\n",
    "        a+=t[i]*10**(n-i-1)\n",
    "    return a"
   ]
  },
  {
   "cell_type": "code",
   "execution_count": 5,
   "metadata": {},
   "outputs": [
    {
     "data": {
      "text/plain": [
       "12534"
      ]
     },
     "execution_count": 5,
     "metadata": {},
     "output_type": "execute_result"
    }
   ],
   "source": [
    "findNext(12453)"
   ]
  },
  {
   "cell_type": "code",
   "execution_count": 9,
   "metadata": {},
   "outputs": [
    {
     "name": "stdout",
     "output_type": "stream",
     "text": [
      "132\n",
      "213\n",
      "231\n",
      "312\n",
      "321\n"
     ]
    },
    {
     "ename": "TypeError",
     "evalue": "unsupported operand type(s) for -: 'NoneType' and 'int'",
     "output_type": "error",
     "traceback": [
      "\u001b[1;31m---------------------------------------------------------------------------\u001b[0m",
      "\u001b[1;31mTypeError\u001b[0m                                 Traceback (most recent call last)",
      "\u001b[1;32m<ipython-input-9-a0278fb62f5a>\u001b[0m in \u001b[0;36m<module>\u001b[1;34m\u001b[0m\n\u001b[0;32m      1\u001b[0m \u001b[0mnum\u001b[0m\u001b[1;33m=\u001b[0m\u001b[1;36m123\u001b[0m\u001b[1;33m\u001b[0m\u001b[1;33m\u001b[0m\u001b[0m\n\u001b[0;32m      2\u001b[0m \u001b[1;32mfor\u001b[0m \u001b[0mi\u001b[0m \u001b[1;32min\u001b[0m \u001b[0mrange\u001b[0m\u001b[1;33m(\u001b[0m\u001b[1;36m20\u001b[0m\u001b[1;33m)\u001b[0m\u001b[1;33m:\u001b[0m\u001b[1;33m\u001b[0m\u001b[1;33m\u001b[0m\u001b[0m\n\u001b[1;32m----> 3\u001b[1;33m     \u001b[0mnum\u001b[0m\u001b[1;33m=\u001b[0m\u001b[0mfindNext\u001b[0m\u001b[1;33m(\u001b[0m\u001b[0mnum\u001b[0m\u001b[1;33m)\u001b[0m\u001b[1;33m\u001b[0m\u001b[1;33m\u001b[0m\u001b[0m\n\u001b[0m\u001b[0;32m      4\u001b[0m     \u001b[0mprint\u001b[0m\u001b[1;33m(\u001b[0m\u001b[0mnum\u001b[0m\u001b[1;33m)\u001b[0m\u001b[1;33m\u001b[0m\u001b[1;33m\u001b[0m\u001b[0m\n",
      "\u001b[1;32m<ipython-input-4-5c6150096bd8>\u001b[0m in \u001b[0;36mfindNext\u001b[1;34m(inte)\u001b[0m\n\u001b[0;32m     19\u001b[0m     \u001b[1;32mif\u001b[0m \u001b[0mindex\u001b[0m \u001b[1;33m==\u001b[0m \u001b[1;36m0\u001b[0m\u001b[1;33m:\u001b[0m\u001b[1;33m\u001b[0m\u001b[1;33m\u001b[0m\u001b[0m\n\u001b[0;32m     20\u001b[0m         \u001b[1;32mreturn\u001b[0m \u001b[1;32mNone\u001b[0m\u001b[1;33m\u001b[0m\u001b[1;33m\u001b[0m\u001b[0m\n\u001b[1;32m---> 21\u001b[1;33m     \u001b[0mexchangeHead\u001b[0m\u001b[1;33m(\u001b[0m\u001b[0mindex\u001b[0m\u001b[1;33m)\u001b[0m\u001b[1;33m\u001b[0m\u001b[1;33m\u001b[0m\u001b[0m\n\u001b[0m\u001b[0;32m     22\u001b[0m     \u001b[1;31m#reverse(index)\u001b[0m\u001b[1;33m\u001b[0m\u001b[1;33m\u001b[0m\u001b[1;33m\u001b[0m\u001b[0m\n\u001b[0;32m     23\u001b[0m     \u001b[0mt\u001b[0m\u001b[1;33m=\u001b[0m \u001b[0mtemplist\u001b[0m\u001b[1;33m[\u001b[0m\u001b[1;33m:\u001b[0m\u001b[0mindex\u001b[0m\u001b[1;33m]\u001b[0m\u001b[1;33m+\u001b[0m\u001b[0mreverse\u001b[0m\u001b[1;33m(\u001b[0m\u001b[0mindex\u001b[0m\u001b[1;33m)\u001b[0m\u001b[1;33m\u001b[0m\u001b[1;33m\u001b[0m\u001b[0m\n",
      "\u001b[1;32m<ipython-input-4-5c6150096bd8>\u001b[0m in \u001b[0;36mexchangeHead\u001b[1;34m(index)\u001b[0m\n\u001b[0;32m      8\u001b[0m     \u001b[1;32mdef\u001b[0m \u001b[0mexchangeHead\u001b[0m\u001b[1;33m(\u001b[0m\u001b[0mindex\u001b[0m\u001b[1;33m)\u001b[0m\u001b[1;33m:\u001b[0m\u001b[1;33m\u001b[0m\u001b[1;33m\u001b[0m\u001b[0m\n\u001b[0;32m      9\u001b[0m         \u001b[1;32mfor\u001b[0m \u001b[0mi\u001b[0m \u001b[1;32min\u001b[0m \u001b[0mrange\u001b[0m\u001b[1;33m(\u001b[0m\u001b[0mn\u001b[0m\u001b[1;33m-\u001b[0m\u001b[1;36m1\u001b[0m\u001b[1;33m,\u001b[0m\u001b[1;36m0\u001b[0m\u001b[1;33m,\u001b[0m\u001b[1;33m-\u001b[0m\u001b[1;36m1\u001b[0m\u001b[1;33m)\u001b[0m\u001b[1;33m:\u001b[0m\u001b[1;33m\u001b[0m\u001b[1;33m\u001b[0m\u001b[0m\n\u001b[1;32m---> 10\u001b[1;33m             \u001b[1;32mif\u001b[0m \u001b[0mtemplist\u001b[0m\u001b[1;33m[\u001b[0m\u001b[0mi\u001b[0m\u001b[1;33m]\u001b[0m\u001b[1;33m>\u001b[0m\u001b[0mtemplist\u001b[0m\u001b[1;33m[\u001b[0m\u001b[0mindex\u001b[0m\u001b[1;33m-\u001b[0m\u001b[1;36m1\u001b[0m\u001b[1;33m]\u001b[0m\u001b[1;33m:\u001b[0m\u001b[1;33m\u001b[0m\u001b[1;33m\u001b[0m\u001b[0m\n\u001b[0m\u001b[0;32m     11\u001b[0m                 \u001b[0mtemplist\u001b[0m\u001b[1;33m[\u001b[0m\u001b[0mi\u001b[0m\u001b[1;33m]\u001b[0m\u001b[1;33m,\u001b[0m\u001b[0mtemplist\u001b[0m\u001b[1;33m[\u001b[0m\u001b[0mindex\u001b[0m\u001b[1;33m-\u001b[0m\u001b[1;36m1\u001b[0m\u001b[1;33m]\u001b[0m\u001b[1;33m=\u001b[0m\u001b[0mtemplist\u001b[0m\u001b[1;33m[\u001b[0m\u001b[0mindex\u001b[0m\u001b[1;33m-\u001b[0m\u001b[1;36m1\u001b[0m\u001b[1;33m]\u001b[0m\u001b[1;33m,\u001b[0m\u001b[0mtemplist\u001b[0m\u001b[1;33m[\u001b[0m\u001b[0mi\u001b[0m\u001b[1;33m]\u001b[0m\u001b[1;33m\u001b[0m\u001b[1;33m\u001b[0m\u001b[0m\n\u001b[0;32m     12\u001b[0m                 \u001b[1;32mbreak\u001b[0m\u001b[1;33m\u001b[0m\u001b[1;33m\u001b[0m\u001b[0m\n",
      "\u001b[1;31mTypeError\u001b[0m: unsupported operand type(s) for -: 'NoneType' and 'int'"
     ]
    }
   ],
   "source": [
    "num=123\n",
    "for i in range(20):\n",
    "    num=findNext(num)\n",
    "    print(num)"
   ]
  },
  {
   "cell_type": "markdown",
   "metadata": {},
   "source": [
    "### 什么是归并排序？"
   ]
  },
  {
   "cell_type": "code",
   "execution_count": null,
   "metadata": {},
   "outputs": [],
   "source": []
  }
 ],
 "metadata": {
  "kernelspec": {
   "display_name": "Python 3",
   "language": "python",
   "name": "python3"
  },
  "language_info": {
   "codemirror_mode": {
    "name": "ipython",
    "version": 3
   },
   "file_extension": ".py",
   "mimetype": "text/x-python",
   "name": "python",
   "nbconvert_exporter": "python",
   "pygments_lexer": "ipython3",
   "version": "3.7.7"
  }
 },
 "nbformat": 4,
 "nbformat_minor": 4
}
