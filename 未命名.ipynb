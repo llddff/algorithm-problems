{
 "cells": [
  {
   "cell_type": "code",
   "execution_count": null,
   "metadata": {},
   "outputs": [],
   "source": [
    "def sqrt(x):\n",
    "    y=1\n",
    "    while abs(y*y-x)>1e-6:\n",
    "        y=y-(y-(x/y))/2\n",
    "    return y"
   ]
  },
  {
   "cell_type": "code",
   "execution_count": null,
   "metadata": {},
   "outputs": [],
   "source": [
    "sqrt(10)"
   ]
  },
  {
   "cell_type": "code",
   "execution_count": null,
   "metadata": {},
   "outputs": [],
   "source": [
    "'#'.join('abc')"
   ]
  },
  {
   "cell_type": "code",
   "execution_count": null,
   "metadata": {},
   "outputs": [],
   "source": [
    "a=[[1 for k in range(5)] for i in range(10)]\n",
    "a"
   ]
  },
  {
   "cell_type": "code",
   "execution_count": null,
   "metadata": {},
   "outputs": [],
   "source": [
    "float('inf')"
   ]
  },
  {
   "cell_type": "code",
   "execution_count": 1,
   "metadata": {
    "collapsed": false,
    "jupyter": {
     "outputs_hidden": false
    },
    "pycharm": {
     "name": "#%%\n"
    }
   },
   "outputs": [],
   "source": [
    "def upAdjust(array):\n",
    "    childIndex=len(array)-1\n",
    "    parentIndex=(childIndex-1)>>1\n",
    "    temp=array[childIndex]\n",
    "    while childIndex>0 and temp<array[parentIndex]:\n",
    "        array[childIndex]=array[parentIndex]\n",
    "        childIndex=parentIndex\n",
    "        parentIndex=(childIndex-1)>>1\n",
    "    array[childIndex]=temp"
   ]
  },
  {
   "cell_type": "code",
   "execution_count": 2,
   "metadata": {},
   "outputs": [
    {
     "data": {
      "text/plain": [
       "[0, 1, 2, 6, 3, 7, 8, 9, 10, 5]"
      ]
     },
     "execution_count": 2,
     "metadata": {},
     "output_type": "execute_result"
    }
   ],
   "source": [
    "a=[1,3,2,6,5,7,8,9,10,0]\n",
    "upAdjust(a)\n",
    "a"
   ]
  },
  {
   "cell_type": "code",
   "execution_count": 3,
   "metadata": {},
   "outputs": [],
   "source": [
    "def downAdjust(array, parentIndex, length):\n",
    "    temp = array[parentIndex]\n",
    "    childIndex = 2 * parentIndex + 1\n",
    "    while childIndex < length:\n",
    "        if childIndex + 1 < length and array[childIndex + 1] < array[childIndex]:\n",
    "            childIndex += 1\n",
    "        if temp <= array[childIndex]:\n",
    "            break\n",
    "        array[parentIndex] = array[childIndex]\n",
    "        parentIndex = childIndex\n",
    "        childIndex = 2 * parentIndex + 1\n",
    "    array[parentIndex] = temp\n",
    "\n",
    "\n",
    "def buildHeap(array):\n",
    "    n = len(array)\n",
    "    for i in range((n - 2) >> 1, -1, -1):\n",
    "        downAdjust(array, i, n)"
   ]
  },
  {
   "cell_type": "code",
   "execution_count": 4,
   "metadata": {},
   "outputs": [
    {
     "data": {
      "text/plain": [
       "[1, 5, 2, 6, 7, 3, 8, 9, 10]"
      ]
     },
     "execution_count": 4,
     "metadata": {},
     "output_type": "execute_result"
    }
   ],
   "source": [
    "b=[7,1,3,10,5,2,8,9,6]\n",
    "buildHeap(b)\n",
    "b"
   ]
  },
  {
   "cell_type": "code",
   "execution_count": 1,
   "metadata": {},
   "outputs": [
    {
     "name": "stdin",
     "output_type": "stream",
     "text": [
      " 83\n",
      " UUDUDDDDUDUUDDDDUDD\n"
     ]
    },
    {
     "name": "stdout",
     "output_type": "stream",
     "text": [
      "80 81 82 83\n",
      "83\n"
     ]
    },
    {
     "name": "stdin",
     "output_type": "stream",
     "text": [
      " \n"
     ]
    }
   ],
   "source": [
    "def helper(cur,n,order):\n",
    "    downline=1\n",
    "    for op in order:\n",
    "        if op=='U' and cur==1:\n",
    "            cur=n\n",
    "        elif op=='U':\n",
    "            cur-=1\n",
    "        elif op=='D' and cur==n:\n",
    "            cur==1\n",
    "        elif op=='D':\n",
    "            cur+=1\n",
    "        if n>4:\n",
    "            if cur>downline:\n",
    "                downline=cur\n",
    "            if cur<downline-3:\n",
    "                downline=cur+3\n",
    "    return cur,downline\n",
    "\n",
    "while 1:\n",
    "    try:\n",
    "        n=int(input())\n",
    "        order=input()\n",
    "        cur,down=helper(1, n, order)\n",
    "        ans=range(down-3,down+1) if n>4 else range(1,n+1)\n",
    "        print(' '.join(map(str, ans)))\n",
    "        print(cur)\n",
    "    except:\n",
    "        break"
   ]
  },
  {
   "cell_type": "code",
   "execution_count": null,
   "metadata": {},
   "outputs": [],
   "source": []
  }
 ],
 "metadata": {
  "kernelspec": {
   "display_name": "Python 3",
   "language": "python",
   "name": "python3"
  },
  "language_info": {
   "codemirror_mode": {
    "name": "ipython",
    "version": 3
   },
   "file_extension": ".py",
   "mimetype": "text/x-python",
   "name": "python",
   "nbconvert_exporter": "python",
   "pygments_lexer": "ipython3",
   "version": "3.7.7"
  }
 },
 "nbformat": 4,
 "nbformat_minor": 4
}
